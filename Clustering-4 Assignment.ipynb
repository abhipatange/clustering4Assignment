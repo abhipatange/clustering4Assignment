{
 "cells": [
  {
   "cell_type": "code",
   "execution_count": null,
   "id": "ecb248a3-d404-48ac-a9fe-f47853b3046f",
   "metadata": {},
   "outputs": [],
   "source": [
    "Q1. Explain the concept of homogeneity and completeness in clustering evaluation. How are they\n",
    "calculated?"
   ]
  },
  {
   "cell_type": "code",
   "execution_count": null,
   "id": "44e80292-44f6-42cb-8888-d683ab90454a",
   "metadata": {},
   "outputs": [],
   "source": [
    "Ans = \n",
    "    A clustering result sat- isfies homogeneity if all of its clusters contain\n",
    "    only data points which are members of a single class.\n",
    "    A clustering result satisfies completeness if all the data points that are members of a \n",
    "    given class are elements of the same cluster.\n",
    "    \n",
    "    If one looks at the term H(C|K) it contains n𝒸ₖ / nₖ which represents the ratio between the number of \n",
    "    samples labelled c in cluster k and the total number of samples in cluster k. \n",
    "    When all samples in cluster k have the same label c, the homogeneity equals 1."
   ]
  },
  {
   "cell_type": "code",
   "execution_count": null,
   "id": "71008346-3c7c-4cb4-b1d3-4d6e5516ce07",
   "metadata": {},
   "outputs": [],
   "source": []
  },
  {
   "cell_type": "code",
   "execution_count": null,
   "id": "e4e0f2ff-6343-40c5-9bd6-25c0b56989af",
   "metadata": {},
   "outputs": [],
   "source": [
    "Q2. What is the V-measure in clustering evaluation? How is it related to homogeneity and completeness?"
   ]
  },
  {
   "cell_type": "code",
   "execution_count": null,
   "id": "8eeb3bf7-3c5d-4f87-9ca7-8d93c161df21",
   "metadata": {},
   "outputs": [],
   "source": [
    "ANS= \n",
    "    This score is a measure between 0–1 that actually quantifies the goodness of the clustering partition.\n",
    "    In fact, it requires that both homogeneity h and completeness c are maximised.\n",
    "    Moreover if the clustering does not satisfy any of the two conditions NMI will be zero."
   ]
  },
  {
   "cell_type": "code",
   "execution_count": null,
   "id": "96313afe-f97c-4512-82e7-ad66ba015d5e",
   "metadata": {},
   "outputs": [],
   "source": []
  },
  {
   "cell_type": "code",
   "execution_count": null,
   "id": "f0ad937d-7e98-4f08-a795-295bd1eacf25",
   "metadata": {},
   "outputs": [],
   "source": [
    "Q3. How is the Silhouette Coefficient used to evaluate the quality of a clustering result? What is the range\n",
    "of its values?"
   ]
  },
  {
   "cell_type": "code",
   "execution_count": null,
   "id": "c3d076cf-0dfa-48e8-b2cf-24cf8b5c2e52",
   "metadata": {},
   "outputs": [],
   "source": [
    "ANS = \n",
    "     Another metric to evaluate the quality of clustering is referred to as silhouette analysis.\n",
    "    Silhouette analysis can be applied to other clustering algorithms as well. \n",
    "    Silhouette coefficient ranges between −1 and 1,\n",
    "    where a higher silhouette coefficient refers to a model with more coherent clusters."
   ]
  },
  {
   "cell_type": "code",
   "execution_count": null,
   "id": "ebbc2568-fb2f-4311-8e24-a2146e4ae0c6",
   "metadata": {},
   "outputs": [],
   "source": []
  },
  {
   "cell_type": "code",
   "execution_count": null,
   "id": "7b5eb1f1-244f-4b91-91f3-c8c689c2a919",
   "metadata": {},
   "outputs": [],
   "source": [
    "Q4. How is the Davies-Bouldin Index used to evaluate the quality of a clustering result? What is the range\n",
    "of its values?"
   ]
  },
  {
   "cell_type": "code",
   "execution_count": null,
   "id": "c9267f74-f693-4e1f-b825-078e6cf69be8",
   "metadata": {},
   "outputs": [],
   "source": [
    "ANS = \n",
    "    Davies-Bouldin Index measures the size of clusters against the average distance between clusters.\n",
    "    A lower score signifies better-defined clusters. \n",
    "    The Davies-Bouldin Index measures the average similarity between clusters, \n",
    "    where similarity compares the size of clusters against the between-cluster distance."
   ]
  },
  {
   "cell_type": "code",
   "execution_count": null,
   "id": "6205313f-8d05-46de-a519-a13a1d1a5476",
   "metadata": {},
   "outputs": [],
   "source": []
  },
  {
   "cell_type": "code",
   "execution_count": null,
   "id": "8b0cdbac-0ae3-4824-bc7b-1fd98c418c05",
   "metadata": {},
   "outputs": [],
   "source": [
    "Q5. Can a clustering result have a high homogeneity but low completeness? Explain with an example."
   ]
  },
  {
   "cell_type": "code",
   "execution_count": null,
   "id": "967c0754-1ae5-4466-8541-be433b74f9fe",
   "metadata": {},
   "outputs": [],
   "source": [
    "ANS = \n",
    "     A clustering result satisfies homogeneity if all of its clusters contain only data\n",
    "    points which are members of a single class.\n",
    "    A clustering result satisfies completeness if all the data points that are members\n",
    "    of a given class are elements of the same cluster.\n",
    "    "
   ]
  },
  {
   "cell_type": "code",
   "execution_count": null,
   "id": "2511a612-327b-4c00-a797-fa41afc98f36",
   "metadata": {},
   "outputs": [],
   "source": []
  },
  {
   "cell_type": "code",
   "execution_count": null,
   "id": "f38fb956-8aa3-43da-b227-5478061c8ad4",
   "metadata": {},
   "outputs": [],
   "source": [
    "Q6. How can the V-measure be used to determine the optimal number of clusters in a clustering\n",
    "algorithm?"
   ]
  },
  {
   "cell_type": "code",
   "execution_count": null,
   "id": "c7bc69e3-d516-423a-b012-07448b8ac8c2",
   "metadata": {},
   "outputs": [],
   "source": [
    "ANS = \n",
    "    The V-measure is the harmonic mean between homogeneity and completeness:\n",
    "        v = (1 + beta) * homogeneity * completeness / (beta * homogeneity + completeness) \n",
    "        This metric is independent of the absolute values of the labels: a permutation of\n",
    "        the class or cluster label values wont change the score value in any way."
   ]
  },
  {
   "cell_type": "code",
   "execution_count": null,
   "id": "1fa469fd-7aa7-4912-bf3a-564e17935a65",
   "metadata": {},
   "outputs": [],
   "source": []
  },
  {
   "cell_type": "code",
   "execution_count": null,
   "id": "1ff3cb42-12cd-4e7b-809f-e7b818992bcf",
   "metadata": {},
   "outputs": [],
   "source": [
    "Q7. What are some advantages and disadvantages of using the Silhouette Coefficient to evaluate a\n",
    "clustering result?"
   ]
  },
  {
   "cell_type": "code",
   "execution_count": null,
   "id": "40544744-8add-4c5b-9628-27ec4ae6ec53",
   "metadata": {},
   "outputs": [],
   "source": [
    "ANS = \n",
    "    The advantage of this method is that it can capture the compactness and separation of clusters better than the SSE.\n",
    "    The disadvantage is that it can be computationally expensive and sensitive to outliers.\n",
    "    \n",
    "    The main advantage of a clustered solution is automatic recovery from failure, that is, recovery without user intervention. \n",
    "     Disadvantages of clustering are complexity and inability to recover from database corruption."
   ]
  },
  {
   "cell_type": "code",
   "execution_count": null,
   "id": "50c88fe8-1067-4c48-a8bd-88933065e59a",
   "metadata": {},
   "outputs": [],
   "source": []
  },
  {
   "cell_type": "code",
   "execution_count": null,
   "id": "2b31502a-5b87-4560-898a-033e526e7e28",
   "metadata": {},
   "outputs": [],
   "source": [
    "Q8. What are some limitations of the Davies-Bouldin Index as a clustering evaluation metric? How can\n",
    "they be overcome?"
   ]
  },
  {
   "cell_type": "code",
   "execution_count": null,
   "id": "b9c842e8-4208-4694-a55e-16d2ea0449f8",
   "metadata": {},
   "outputs": [],
   "source": [
    "ANS = \n",
    "    The Davies-Bouldin Index (DBI) is not without its drawbacks, however. \n",
    "    It can be sensitive to outliers and noise, leading to a false indication of poor clustering.\n",
    "    Furthermore, it assumes a spherical shape with similar sizes and densities for each cluster, \n",
    "    which may not be true in many real-world cases."
   ]
  },
  {
   "cell_type": "code",
   "execution_count": null,
   "id": "c67a35cd-8429-4b48-ba75-b1100504824c",
   "metadata": {},
   "outputs": [],
   "source": []
  },
  {
   "cell_type": "code",
   "execution_count": null,
   "id": "54ac7a6d-1031-4c0c-8e05-e446e116537f",
   "metadata": {},
   "outputs": [],
   "source": [
    "Q9. What is the relationship between homogeneity, completeness, and the V-measure? Can they have\n",
    "different values for the same clustering result?"
   ]
  },
  {
   "cell_type": "code",
   "execution_count": null,
   "id": "ad91c24b-8a12-4ae5-8dc9-7ee065aef233",
   "metadata": {},
   "outputs": [],
   "source": [
    "ANS = \n",
    "    A clustering result satisfies homogeneity if all of its clusters contain only data \n",
    "    points which are members of a single class.\n",
    "    A clustering result satisfies completeness if all the data points that are members \n",
    "    of a given class are elements of the same cluster.\n",
    "    \n",
    "    Two examples of partitional clustering algorithms are k-means and k-medoids. \n",
    "    These algorithms are both nondeterministic, meaning they could produce different \n",
    "    results from two separate runs even if the runs were based on the same input."
   ]
  },
  {
   "cell_type": "code",
   "execution_count": null,
   "id": "d351cec9-a2f1-473b-9d00-5b2a9beed1a1",
   "metadata": {},
   "outputs": [],
   "source": []
  },
  {
   "cell_type": "code",
   "execution_count": null,
   "id": "7ad852b6-69da-4b61-9181-fa33189c264f",
   "metadata": {},
   "outputs": [],
   "source": [
    "Q10. How can the Silhouette Coefficient be used to compare the quality of different clustering algorithms\n",
    "on the same dataset? What are some potential issues to watch out for?"
   ]
  },
  {
   "cell_type": "code",
   "execution_count": null,
   "id": "dc35aa80-a4b9-4683-ae5e-89388f97282d",
   "metadata": {},
   "outputs": [],
   "source": [
    "ANS = \n",
    "    Another metric to evaluate the quality of clustering is referred to as silhouette analysis. \n",
    "    Silhouette analysis can be applied to other clustering algorithms as well. \n",
    "    Silhouette coefficient ranges between −1 and 1, where a higher silhouette coefficient refers\n",
    "    to a model with more coherent clusters."
   ]
  },
  {
   "cell_type": "code",
   "execution_count": null,
   "id": "6520cd24-3fbe-4b45-930b-4a26b988c636",
   "metadata": {},
   "outputs": [],
   "source": []
  },
  {
   "cell_type": "code",
   "execution_count": null,
   "id": "6fc460c0-7df1-4eb0-94f5-453eaf36a444",
   "metadata": {},
   "outputs": [],
   "source": [
    "Q11. How does the Davies-Bouldin Index measure the separation and compactness of clusters? What are\n",
    "some assumptions it makes about the data and the clusters?"
   ]
  },
  {
   "cell_type": "code",
   "execution_count": null,
   "id": "9ac0a1d8-9c38-499a-adcf-9326e7927212",
   "metadata": {},
   "outputs": [],
   "source": [
    "ANS =\n",
    "     Compute the Davies-Bouldin score. \n",
    "    The score is defined as the average similarity measure of each cluster\n",
    "    with its most similar cluster, where similarity is the ratio of within-cluster\n",
    "    distances to between-cluster distances.\n",
    "    Thus, clusters which are farther apart and less dispersed will result in a better score."
   ]
  },
  {
   "cell_type": "code",
   "execution_count": null,
   "id": "170b4e42-8db4-4a9e-bc54-92258b953794",
   "metadata": {},
   "outputs": [],
   "source": []
  },
  {
   "cell_type": "code",
   "execution_count": null,
   "id": "4395164f-24ab-43d2-8793-50c047fe5d3b",
   "metadata": {},
   "outputs": [],
   "source": [
    "Q12. Can the Silhouette Coefficient be used to evaluate hierarchical clustering algorithms? If so, how?"
   ]
  },
  {
   "cell_type": "code",
   "execution_count": null,
   "id": "94db1519-79f5-47f5-8b62-2a0ed19c2f38",
   "metadata": {},
   "outputs": [],
   "source": [
    "ANS = \n",
    "    The silhouette coefficient (Rousseeuw 1986) is an average of the ratio of each clusters \n",
    "    compactness and closeness with range (−1,1). \n",
    "    For agglomerative hierarchical clustering, a silhouette coefficient can be computed\n",
    "    for several cuts (k=2... N−1) and plotted."
   ]
  },
  {
   "cell_type": "code",
   "execution_count": null,
   "id": "3716c8e5-aba1-44bb-b164-d232d33e77a4",
   "metadata": {},
   "outputs": [],
   "source": []
  }
 ],
 "metadata": {
  "kernelspec": {
   "display_name": "Python 3 (ipykernel)",
   "language": "python",
   "name": "python3"
  },
  "language_info": {
   "codemirror_mode": {
    "name": "ipython",
    "version": 3
   },
   "file_extension": ".py",
   "mimetype": "text/x-python",
   "name": "python",
   "nbconvert_exporter": "python",
   "pygments_lexer": "ipython3",
   "version": "3.10.8"
  }
 },
 "nbformat": 4,
 "nbformat_minor": 5
}
